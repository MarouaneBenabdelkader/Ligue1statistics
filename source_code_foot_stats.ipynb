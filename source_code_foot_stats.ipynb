{
 "cells": [
  {
   "cell_type": "markdown",
   "metadata": {},
   "source": [
    " # Marouane Benabdelkader "
   ]
  },
  {
   "cell_type": "markdown",
   "metadata": {},
   "source": [
    "# Importation des Bibliothèques\n",
    "- Tout d'abord, nous importons les librairies nécessaires pour notre script:"
   ]
  },
  {
   "cell_type": "code",
   "execution_count": 1,
   "metadata": {},
   "outputs": [],
   "source": [
    "import os\n",
    "import numpy as np\n",
    "import csv"
   ]
  },
  {
   "cell_type": "markdown",
   "metadata": {},
   "source": [
    "# Question 1\n",
    "## Fonction `getData`\n",
    "\n",
    "La fonction `getData` est utilisée pour charger les données depuis un fichier CSV en utilisant la bibliothèque numpy.\n",
    "\n",
    "### Paramètres :\n",
    "\n",
    "- `path` : `str`  \n",
    "  Le chemin d'accès au fichier CSV à charger.\n",
    "\n",
    "- `delem` : `str` (par défaut `,`)  \n",
    "  Le délimiteur utilisé pour séparer les valeurs dans le fichier CSV.\n",
    "\n",
    "### Retour :\n",
    "\n",
    "- `np.ndarray`  \n",
    "  Un tableau numpy contenant les données chargées du fichier CSV."
   ]
  },
  {
   "cell_type": "code",
   "execution_count": 2,
   "metadata": {},
   "outputs": [],
   "source": [
    "def getData(path: str, delem=',') -> np.ndarray:\n",
    "    data = np.genfromtxt(path, delimiter=delem,\n",
    "                            skip_header=1, dtype=None, encoding='utf-8')\n",
    "    return data"
   ]
  },
  {
   "cell_type": "markdown",
   "metadata": {},
   "source": [
    "## Fonction `reformat_data`\n",
    "\n",
    "Transforme un tableau numpy de tuples en un tableau 2D et transpose les dimensions.\n",
    "\n",
    "### Paramètres :\n",
    "\n",
    "- `data` : `np.ndarray`  \n",
    "  Tableau numpy de tuples.\n",
    "\n",
    "### Retour :\n",
    "\n",
    "- `np.ndarray`  \n",
    "  Tableau numpy 2D avec les dimensions transposées.\n"
   ]
  },
  {
   "cell_type": "code",
   "execution_count": 3,
   "metadata": {},
   "outputs": [],
   "source": [
    "def reformat_data(data: np.ndarray) -> np.ndarray:\n",
    "    # Use zip and the * operator to unpack the tuples into columns\n",
    "    columns = zip(*data)\n",
    "    # Convert the columns back into a 2D array\n",
    "    array_2d = np.array(list(columns))\n",
    "    # Transpose the array to switch rows and columns back to their original structure\n",
    "    array_2d = array_2d.T\n",
    "    return array_2d"
   ]
  },
  {
   "cell_type": "markdown",
   "metadata": {},
   "source": [
    "## Chargement et reformatage des données\n",
    "\n",
    "Après avoir défini les fonctions nécessaires, nous exécutons les étapes suivantes pour charger et reformatage les données :"
   ]
  },
  {
   "cell_type": "code",
   "execution_count": 4,
   "metadata": {},
   "outputs": [
    {
     "name": "stdout",
     "output_type": "stream",
     "text": [
      "(20, 16)\n"
     ]
    }
   ],
   "source": [
    "data = getData('./STATISTIQUES_EQUIPE_LIGUE1.csv', delem=';')\n",
    "data = reformat_data(data)\n",
    "print(data.shape)\n",
    "victoires = data[1, 1].astype(int)\n",
    "nuls = data[1, 2].astype(int)\n",
    "defaites = data[1, 3].astype(int)\n",
    "    # calcul de nombre de match total\n",
    "match_total = victoires + nuls + defaites"
   ]
  },
  {
   "cell_type": "markdown",
   "metadata": {},
   "source": [
    "# Question 2\n",
    "## Fonction `moyen_but`\n",
    "\n",
    "Calcule la moyenne de buts par match pour l'ensemble des équipes.\n",
    "\n",
    "### Paramètres :\n",
    "\n",
    "- `data` : `np.ndarray`  \n",
    "  Tableau numpy contenant les statistiques des équipes.\n",
    "\n",
    "### Retour :\n",
    "\n",
    "- `float`  \n",
    "  La moyenne de buts par match calculée pour toutes les équipes.\n"
   ]
  },
  {
   "cell_type": "code",
   "execution_count": 5,
   "metadata": {},
   "outputs": [],
   "source": [
    "def moyen_but(data: np.ndarray) -> float:\n",
    "    # Convertir les colonne en entiers\n",
    "    butspour = data[:, 4].astype(int).sum()\n",
    "    total_equipe = len(data)\n",
    "    moyenne_but = butspour / ((match_total * total_equipe)/2)\n",
    "    return moyenne_but"
   ]
  },
  {
   "cell_type": "code",
   "execution_count": 6,
   "metadata": {},
   "outputs": [
    {
     "name": "stdout",
     "output_type": "stream",
     "text": [
      "La moyenne des but des matchs est:  2.96\n"
     ]
    }
   ],
   "source": [
    "moyen_goals = moyen_but(data)\n",
    "print(\"La moyenne des but des matchs est: \", moyen_goals)"
   ]
  },
  {
   "cell_type": "markdown",
   "metadata": {},
   "source": [
    "# Question 3\n",
    "\n",
    "## Fonction `moyen_points`\n",
    "\n",
    "Calcule la moyenne de points pour l'ensemble des équipes basée sur leurs victoires et matchs nuls.\n",
    "\n",
    "### Paramètres :\n",
    "\n",
    "- `donnees` : `np.ndarray`  \n",
    "  Tableau numpy contenant les statistiques des équipes.\n",
    "\n",
    "### Retour :\n",
    "\n",
    "- `float`  \n",
    "  La moyenne de points calculée pour toutes les équipes.\n",
    "\n",
    "\n",
    "\n"
   ]
  },
  {
   "cell_type": "code",
   "execution_count": 7,
   "metadata": {},
   "outputs": [],
   "source": [
    "def moyen_points(donnees: np.ndarray) -> float:\n",
    "    \"\"\"Retourne le nombre de point\"\"\"\n",
    "    # Convertir la colonne Victoire en entiers\n",
    "    victoires = donnees[:, 1].astype(int)\n",
    "    # Convertir la colonne Nuls en entiers\n",
    "    nuls = donnees[:, 2].astype(int)\n",
    "    moyen = (victoires * 3 + nuls).sum() / 20\n",
    "    return moyen"
   ]
  },
  {
   "cell_type": "code",
   "execution_count": 8,
   "metadata": {},
   "outputs": [
    {
     "name": "stdout",
     "output_type": "stream",
     "text": [
      "La moyenne des points est:  20.5\n"
     ]
    }
   ],
   "source": [
    "print(\"La moyenne des points est: \", moyen_points(data))"
   ]
  },
  {
   "cell_type": "markdown",
   "metadata": {},
   "source": [
    "# Question 4\n",
    "## Fonction `grand_nombre_victoire`\n",
    "\n",
    "Identifie l'équipe avec le plus grand nombre de victoires.\n",
    "\n",
    "### Paramètres :\n",
    "\n",
    "- `donnees` : `np.ndarray`  \n",
    "  Tableau numpy contenant les statistiques des équipes.\n",
    "\n",
    "### Retour :\n",
    "\n",
    "- `str`  \n",
    "  Le nom de l'équipe ayant le plus grand nombre de victoires.\n",
    "\n",
    "\n",
    "\n",
    "\n",
    "\n",
    "\n"
   ]
  },
  {
   "cell_type": "code",
   "execution_count": 9,
   "metadata": {},
   "outputs": [],
   "source": [
    "def grand_nombre_victoire(donnees: np.ndarray) -> str:\n",
    "    \"\"\"Retourne l'equipe avec le plus grand nombre de victoire\"\"\"\n",
    "    victoires = donnees[:, 1].astype(int)\n",
    "    max_victoire = np.argmax(victoires)\n",
    "    equipe_vict = donnees[max_victoire, 0]\n",
    "    return equipe_vict"
   ]
  },
  {
   "cell_type": "code",
   "execution_count": 10,
   "metadata": {},
   "outputs": [
    {
     "name": "stdout",
     "output_type": "stream",
     "text": [
      "L'equipe avec le plus grand nombre de victoire est:  PSG\n"
     ]
    }
   ],
   "source": [
    "equipe_vict = grand_nombre_victoire(data)\n",
    "print(\"L'equipe avec le plus grand nombre de victoire est: \", equipe_vict)"
   ]
  },
  {
   "cell_type": "markdown",
   "metadata": {},
   "source": [
    "# Question 5\n",
    "## Fonction `grand_nombre_but`\n",
    "\n",
    "Identifie l'équipe avec le plus grand nombre de buts marqués.\n",
    "\n",
    "### Paramètres :\n",
    "\n",
    "- `donnees` : `np.ndarray`  \n",
    "  Tableau numpy contenant les statistiques des équipes, y compris les buts marqués.\n",
    "\n",
    "### Retour :\n",
    "\n",
    "- `str`  \n",
    "  Le nom de l'équipe ayant marqué le plus grand nombre de buts.\n"
   ]
  },
  {
   "cell_type": "code",
   "execution_count": 11,
   "metadata": {},
   "outputs": [],
   "source": [
    "\n",
    "def grand_nombre_but(donnees: np.ndarray) -> str:\n",
    "    \"\"\"Retourne l'equipe avec le plus grand nombre de but\"\"\"\n",
    "    butspour = donnees[:, 4].astype(int)\n",
    "    max_but = np.argmax(butspour)\n",
    "    equipe_max_but = donnees[max_but, 0]\n",
    "    return equipe_max_but"
   ]
  },
  {
   "cell_type": "code",
   "execution_count": 12,
   "metadata": {},
   "outputs": [
    {
     "name": "stdout",
     "output_type": "stream",
     "text": [
      "L'equipe avec le plus grand nombre de but est:  PSG\n"
     ]
    }
   ],
   "source": [
    "equipe_max_but = grand_nombre_but(data)\n",
    "print(\"L'equipe avec le plus grand nombre de but est: \", equipe_max_but)"
   ]
  },
  {
   "cell_type": "markdown",
   "metadata": {},
   "source": [
    "# Question 6\n",
    "## Fonction `max_hors_jeux`\n",
    "\n",
    "Identifie l'équipe avec le plus grand nombre de hors-jeux signalés.\n",
    "\n",
    "### Paramètres :\n",
    "\n",
    "- `donnees` : `np.ndarray`  \n",
    "  Tableau numpy contenant les statistiques des équipes, y compris les occurrences de hors-jeux.\n",
    "\n",
    "### Retour :\n",
    "\n",
    "- `str`  \n",
    "  Le nom de l'équipe avec le plus grand nombre de hors-jeux.\n"
   ]
  },
  {
   "cell_type": "code",
   "execution_count": 13,
   "metadata": {},
   "outputs": [],
   "source": [
    "def max_hors_jeux(donnees: np.ndarray) -> str:\n",
    "    \"\"\"Retourne l'equipe avec le plus grand nombre de hors-jeux\"\"\"\n",
    "    hors_jeux = donnees[:, 9].astype(int)\n",
    "    max_hors_jeux = np.argmax(hors_jeux)\n",
    "    equipe_hors_jeux = donnees[max_hors_jeux, 0]\n",
    "    return equipe_hors_jeux"
   ]
  },
  {
   "cell_type": "code",
   "execution_count": 14,
   "metadata": {},
   "outputs": [
    {
     "name": "stdout",
     "output_type": "stream",
     "text": [
      "L'equipe avec le plus grand nombre de hors-jeux est:  PSG\n"
     ]
    }
   ],
   "source": [
    "equipe_max_hrjs = max_hors_jeux(data)\n",
    "print(\"L'equipe avec le plus grand nombre de hors-jeux est: \", equipe_max_hrjs)"
   ]
  },
  {
   "cell_type": "markdown",
   "metadata": {},
   "source": [
    "# Question 7\n",
    "## Fonction `meilleur_defense_attaque`\n",
    "\n",
    "Identifie les équipes avec la meilleure attaque et la meilleure défense.\n",
    "\n",
    "### Paramètres :\n",
    "\n",
    "- `donnees` : `np.ndarray`  \n",
    "  Tableau numpy contenant les statistiques des équipe\n",
    "\n",
    "### Retour :\n",
    "\n",
    "- `dict`  \n",
    "  Un dictionnaire avec deux clés : \"meilleur_attaque\" et \"meilleur_defense\", chacune associée à une liste d'équipes.\n",
    "\n",
    "### Description :\n",
    "\n",
    "Cette méthode permet de gérer les cas où plusieurs équipes ont le même nombre maximal de buts marqués ou minimal de buts encaissés, en les incluant toutes dans le résultat.\n"
   ]
  },
  {
   "cell_type": "code",
   "execution_count": 15,
   "metadata": {},
   "outputs": [],
   "source": [
    "def meilleur_defense_attaque(donnees: np.ndarray) -> dict:\n",
    "    \"\"\"Return the team with the best defense and the team with the best offense.\"\"\"\n",
    "    butspour = donnees[:, 4].astype(int)\n",
    "    butscontre = donnees[:, 5].astype(int)\n",
    "\n",
    "    # Find the teams with the maximum goals for and minimum goals against\n",
    "    meilleur_attaque = donnees[butspour == np.amax(butspour), 0]\n",
    "    meilleur_defense = donnees[butscontre == np.amin(butscontre), 0]\n",
    "\n",
    "    return {\"meilleur_attaque\": meilleur_attaque.tolist(), \"meilleur_defense\": meilleur_defense.tolist()}"
   ]
  },
  {
   "cell_type": "code",
   "execution_count": 16,
   "metadata": {},
   "outputs": [
    {
     "name": "stdout",
     "output_type": "stream",
     "text": [
      "L'equipe avec la meilleure defense est:  ['PSG']\n",
      "L'equipe avec la meilleure attaque est:  ['PSG']\n"
     ]
    }
   ],
   "source": [
    "meilleur_defense_attaque = meilleur_defense_attaque(data)\n",
    "print(\"L'equipe avec la meilleure defense est: \", meilleur_defense_attaque[\"meilleur_defense\"])\n",
    "print(\"L'equipe avec la meilleure attaque est: \", meilleur_defense_attaque[\"meilleur_attaque\"])"
   ]
  },
  {
   "cell_type": "markdown",
   "metadata": {},
   "source": [
    "# Question 8\n",
    "## Fonction `equipes_deficit_buts`\n",
    "\n",
    "Identifie les équipes dont le nombre de buts marqués est inférieur au nombre de buts encaissés.\n",
    "\n",
    "### Paramètres :\n",
    "\n",
    "- `donnees` : `np.ndarray`  \n",
    "  Tableau numpy contenant les statistiques des équipes.\n",
    "\n",
    "### Retour :\n",
    "\n",
    "- `np.ndarray`  \n",
    "  Un tableau numpy contenant les équipes en déficit de buts.\n"
   ]
  },
  {
   "cell_type": "code",
   "execution_count": 17,
   "metadata": {},
   "outputs": [],
   "source": [
    "def equipes_deficit_buts(donnees: np.ndarray) -> np.ndarray:\n",
    "    \"\"\"Trouve les équipes dont le nombre de buts marqués est inférieur au nombre de buts encaissés.\"\"\"\n",
    "    butspour = donnees[:, 4].astype(int)\n",
    "    butcontre = donnees[:, 5].astype(int)\n",
    "    equipes_deficit_but = donnees[butspour < butcontre]\n",
    "    return equipes_deficit_but"
   ]
  },
  {
   "cell_type": "code",
   "execution_count": 18,
   "metadata": {},
   "outputs": [
    {
     "name": "stdout",
     "output_type": "stream",
     "text": [
      "Les equipes avec un deficit de buts sont:  ['Ajaccio' 'Angers' 'Auxerre' 'Brest' 'Clermont' 'Montpellier' 'Nantes'\n",
      " 'Nice' 'Reims' 'Strasbourg' 'Toulouse' 'Troyes']\n"
     ]
    }
   ],
   "source": [
    "equipes_deficit_but = equipes_deficit_buts(data)\n",
    "print(\"Les equipes avec un deficit de buts sont: \", equipes_deficit_but[:, 0])"
   ]
  },
  {
   "cell_type": "markdown",
   "metadata": {},
   "source": [
    "# Question 9 \n",
    "## Fonction `but_difference`\n",
    "\n",
    "Calcule la différence entre les buts marqués et les buts encaissés pour chaque équipe.\n",
    "\n",
    "### Paramètres :\n",
    "\n",
    "- `donnees` : `np.ndarray`  \n",
    "  Tableau numpy contenant les statistiques des équipes, y compris les buts marqués et encaissés.\n",
    "\n",
    "### Retour :\n",
    "\n",
    "- `np.ndarray`  \n",
    "  Un tableau numpy représentant la différence de buts pour chaque équipe.\n"
   ]
  },
  {
   "cell_type": "code",
   "execution_count": 19,
   "metadata": {},
   "outputs": [],
   "source": [
    "def but_difference(donnees: np.ndarray) -> np.ndarray:\n",
    "    \"\"\"calculer la difference entre buts marques et buts encaisses\"\"\"\n",
    "    butspour = donnees[:, 4].astype(int)\n",
    "    butcontre = donnees[:, 5].astype(int)\n",
    "    difference = butspour - butcontre\n",
    "    return difference"
   ]
  },
  {
   "cell_type": "code",
   "execution_count": 20,
   "metadata": {},
   "outputs": [
    {
     "name": "stdout",
     "output_type": "stream",
     "text": [
      "Equipe Ajaccio: -10 difference\n",
      "Equipe Angers: -19 difference\n",
      "Equipe Auxerre: -17 difference\n",
      "Equipe Brest: -12 difference\n",
      "Equipe Clermont: -4 difference\n",
      "Equipe Lens: 16 difference\n",
      "Equipe Lille: 4 difference\n",
      "Equipe Lorient: 5 difference\n",
      "Equipe Lyon: 5 difference\n",
      "Equipe Marseille: 13 difference\n",
      "Equipe Monaco: 8 difference\n",
      "Equipe Montpellier: -5 difference\n",
      "Equipe Nantes: -7 difference\n",
      "Equipe Nice: -2 difference\n",
      "Equipe PSG: 34 difference\n",
      "Equipe Reims: -5 difference\n",
      "Equipe Rennes: 17 difference\n",
      "Equipe Strasbourg: -9 difference\n",
      "Equipe Toulouse: -7 difference\n",
      "Equipe Troyes: -5 difference\n"
     ]
    }
   ],
   "source": [
    "but_diff = but_difference(data)\n",
    "for i, equipe in enumerate(data[:, 0]):\n",
    "        print(f\"Equipe {equipe}: {but_diff[i]} difference\")"
   ]
  },
  {
   "cell_type": "markdown",
   "metadata": {},
   "source": [
    "# Question 10\n",
    "## Fonction `crenaux_but_pourcentage`\n",
    "\n",
    "Calcule le pourcentage de buts marqués dans chaque créneau horaire pour chaque club.\n",
    "\n",
    "### Paramètres :\n",
    "\n",
    "- `donnees` : `np.ndarray`  \n",
    "  Tableau numpy contenant les statistiques des équipes, y compris les buts marqués par créneau horaire.\n",
    "\n",
    "### Retour :\n",
    "\n",
    "- `np.ndarray`  \n",
    "  Un tableau numpy représentant le pourcentage de buts marqués dans chaque créneau horaire pour chaque équipe.\n"
   ]
  },
  {
   "cell_type": "code",
   "execution_count": 21,
   "metadata": {},
   "outputs": [],
   "source": [
    "def crenaux_but_pourcentage(donnees: np.ndarray) -> np.ndarray:\n",
    "    \"\"\"Calcule le pourcentage de buts marqués dans chaque créneau horaire pour chaque club.\"\"\"\n",
    "    but_par_crenaux = donnees[:, 10:16].astype(int)\n",
    "    pourcentage = np.around((but_par_crenaux / match_total) * 100, 2)\n",
    "    return pourcentage"
   ]
  },
  {
   "cell_type": "code",
   "execution_count": 22,
   "metadata": {},
   "outputs": [
    {
     "name": "stdout",
     "output_type": "stream",
     "text": [
      "[[ 0.    6.67 33.33 20.   20.   13.33]\n",
      " [13.33  6.67 13.33 13.33 26.67 26.67]\n",
      " [20.    6.67 13.33  6.67 20.   26.67]\n",
      " [20.   13.33  6.67 20.   33.33 13.33]\n",
      " [20.    0.    6.67 40.   26.67 33.33]\n",
      " [ 6.67 26.67 13.33 33.33 40.   53.33]\n",
      " [26.67 26.67 46.67 20.   26.67 33.33]\n",
      " [33.33 26.67 33.33 46.67 13.33 20.  ]\n",
      " [20.   26.67 20.   20.   33.33 33.33]\n",
      " [33.33  6.67 53.33 26.67 20.   33.33]\n",
      " [20.   13.33 46.67 46.67 46.67 20.  ]\n",
      " [53.33 26.67 13.33  6.67 20.   40.  ]\n",
      " [ 6.67  6.67 13.33 20.   26.67 40.  ]\n",
      " [ 6.67 20.   20.   20.   20.   13.33]\n",
      " [33.33 46.67 46.67 46.67 33.33 80.  ]\n",
      " [ 6.67 33.33  6.67  6.67 13.33 40.  ]\n",
      " [13.33 33.33 20.   53.33 20.   66.67]\n",
      " [13.33 20.   13.33 13.33 26.67 26.67]\n",
      " [13.33 20.   40.   33.33 20.    6.67]\n",
      " [26.67 26.67 20.   33.33 13.33 53.33]]\n"
     ]
    }
   ],
   "source": [
    "pourcentage_but_crenaux = crenaux_but_pourcentage(data)\n",
    "print(pourcentage_but_crenaux)"
   ]
  },
  {
   "cell_type": "markdown",
   "metadata": {},
   "source": [
    "# Question 11\n",
    "## Fonction `but_par_match`\n",
    "\n",
    "Calcule le nombre moyen de buts marqués par match pour chaque club.\n",
    "\n",
    "### Paramètres :\n",
    "\n",
    "- `donnees` : `np.ndarray`  \n",
    "  Tableau numpy contenant les statistiques des équipes.\n",
    "\n",
    "### Retour :\n",
    "\n",
    "- `np.ndarray`  \n",
    "  Un tableau numpy représentant la moyenne de buts marqués par match pour chaque équipe.\n",
    "\n",
    "---\n",
    "\n",
    "## Fonction `but_encaisse_par_match`\n",
    "\n",
    "Calcule le nombre moyen de buts encaissés par match pour chaque club.\n",
    "\n",
    "### Paramètres :\n",
    "\n",
    "- `donnees` : `np.ndarray`  \n",
    "  Tableau numpy contenant les statistiques des équipes.\n",
    "\n",
    "### Retour :\n",
    "\n",
    "- `np.ndarray`  \n",
    "  Un tableau numpy représentant la moyenne de buts encaissés par match pour chaque équipe.\n",
    "\n",
    "---\n",
    "\n",
    "## Fonction `calcul_points`\n",
    "\n",
    "Calcule le nombre total de points gagnés par chaque club.\n",
    "\n",
    "### Paramètres :\n",
    "\n",
    "- `donnees` : `np.ndarray`  \n",
    "  Tableau numpy contenant les statistiques des équipes.\n",
    "\n",
    "### Retour :\n",
    "\n",
    "- `np.ndarray`  \n",
    "  Un tableau numpy représentant le nombre total de points pour chaque équipe.\n",
    "\n",
    "---\n",
    "\n",
    "## Fonction `join_tables`\n",
    "\n",
    "Joint plusieurs tableaux de statistiques pour chaque club.\n",
    "\n",
    "### Paramètres :\n",
    "\n",
    "- `donnees` : `np.ndarray`  \n",
    "  Tableau numpy contenant les statistiques des équipes.\n",
    "\n",
    "### Retour :\n",
    "\n",
    "- `np.ndarray`  \n",
    "  Un tableau numpy combinant diverses statistiques telles que les points, les victoires, les défaites, les buts marqués et encaissés, et les statistiques par créneau horaire pour chaque équipe.\n"
   ]
  },
  {
   "cell_type": "code",
   "execution_count": 23,
   "metadata": {},
   "outputs": [],
   "source": [
    "def but_par_match(donnees: np.ndarray)-> np.ndarray:\n",
    "    \"\"\"Calcule le nombre de buts marqués par match pour chaque club.\"\"\"\n",
    "    butspour = donnees[:, 4].astype(int)\n",
    "    buts_par_match = np.around(butspour / match_total, 2)\n",
    "    return buts_par_match\n",
    "def but_encaisse_par_match(donnees: np.ndarray)-> np.ndarray:\n",
    "    \"\"\"Calcule le nombre de buts encaissés par match pour chaque club.\"\"\"\n",
    "    butscontre = donnees[:, 5].astype(int)\n",
    "    buts_encaisses_par_match = np.around(butscontre / match_total, 2)\n",
    "    return buts_encaisses_par_match\n",
    "def calcul_points(donnees: np.ndarray)-> np.ndarray:\n",
    "    \"\"\"Calcule le nombre de points gagnés par match pour chaque club.\"\"\"\n",
    "    victoires = donnees[:, 1].astype(int)\n",
    "    nuls = donnees[:, 2].astype(int)\n",
    "    points = (victoires * 3 + nuls) \n",
    "    return points\n",
    "def join_tables(donnees: np.ndarray) -> np.ndarray:\n",
    "    \"\"\"Joins the goals scored and goals conceded tables together.\"\"\"\n",
    "    club = donnees[:, 0].reshape(20,1)\n",
    "    points_equip = calcul_points(donnees).reshape(20,1)\n",
    "    victoires = donnees[:, 1].astype(int).reshape(20,1)\n",
    "    nuls = donnees[:, 2].astype(int).reshape(20,1)\n",
    "    defaites = donnees[:, 3].astype(int).reshape(20,1)\n",
    "    butspour = donnees[:, 4].reshape(20, 1)\n",
    "    butcontre = donnees[:, 5].reshape(20, 1)\n",
    "    horjeux = donnees[:, 9].reshape(20, 1)\n",
    "    but_diff = but_difference(donnees).reshape(20, 1)\n",
    "    buts_par_match = but_par_match(donnees).reshape(20, 1)\n",
    "    buts_encaisses_par_match = but_encaisse_par_match(donnees).reshape(20, 1)\n",
    "    pourcentage_but_crenaux = crenaux_but_pourcentage(donnees)\n",
    "    # Join the tables together\n",
    "    table = np.hstack((club, points_equip, victoires, nuls, defaites, butspour, butcontre, but_diff,horjeux, buts_par_match, buts_encaisses_par_match, pourcentage_but_crenaux))\n",
    "    return table\n",
    "\n",
    "   "
   ]
  },
  {
   "cell_type": "code",
   "execution_count": 24,
   "metadata": {},
   "outputs": [
    {
     "name": "stdout",
     "output_type": "stream",
     "text": [
      "[['Ajaccio' '12' '3' '3' '9' '14' '24' '-10' '23' '0.93' '1.6' '0.0'\n",
      "  '6.67' '33.33' '20.0' '20.0' '13.33']\n",
      " ['Angers' '8' '2' '2' '11' '15' '34' '-19' '17' '1.0' '2.27' '13.33'\n",
      "  '6.67' '13.33' '13.33' '26.67' '26.67']\n",
      " ['Auxerre' '13' '3' '4' '8' '14' '31' '-17' '23' '0.93' '2.07' '20.0'\n",
      "  '6.67' '13.33' '6.67' '20.0' '26.67']\n",
      " ['Brest' '13' '3' '4' '8' '16' '28' '-12' '26' '1.07' '1.87' '20.0'\n",
      "  '13.33' '6.67' '20.0' '33.33' '13.33']\n",
      " ['Clermont' '19' '5' '4' '6' '19' '23' '-4' '25' '1.27' '1.53' '20.0'\n",
      "  '0.0' '6.67' '40.0' '26.67' '33.33']\n",
      " ['Lens' '36' '11' '3' '1' '26' '10' '16' '19' '1.73' '0.67' '6.67'\n",
      "  '26.67' '13.33' '33.33' '40.0' '53.33']\n",
      " ['Lille' '26' '8' '2' '5' '27' '23' '4' '24' '1.8' '1.53' '26.67'\n",
      "  '26.67' '46.67' '20.0' '26.67' '33.33']\n",
      " ['Lorient' '28' '8' '4' '3' '26' '21' '5' '19' '1.73' '1.4' '33.33'\n",
      "  '26.67' '33.33' '46.67' '13.33' '20.0']\n",
      " ['Lyon' '21' '6' '3' '6' '23' '18' '5' '23' '1.53' '1.2' '20.0' '26.67'\n",
      "  '20.0' '20.0' '33.33' '33.33']\n",
      " ['Marseille' '30' '9' '3' '3' '26' '13' '13' '20' '1.73' '0.87' '33.33'\n",
      "  '6.67' '53.33' '26.67' '20.0' '33.33']\n",
      " ['Monaco' '27' '8' '3' '4' '29' '21' '8' '26' '1.93' '1.4' '20.0'\n",
      "  '13.33' '46.67' '46.67' '46.67' '20.0']\n",
      " ['Montpellier' '14' '4' '2' '9' '24' '29' '-5' '31' '1.6' '1.93' '53.33'\n",
      "  '26.67' '13.33' '6.67' '20.0' '40.0']\n",
      " ['Nantes' '13' '2' '7' '6' '17' '24' '-7' '19' '1.13' '1.6' '6.67'\n",
      "  '6.67' '13.33' '20.0' '26.67' '40.0']\n",
      " ['Nice' '20' '5' '5' '5' '15' '17' '-2' '27' '1.0' '1.13' '6.67' '20.0'\n",
      "  '20.0' '20.0' '20.0' '13.33']\n",
      " ['PSG' '41' '13' '2' '0' '43' '9' '34' '36' '2.87' '0.6' '33.33' '46.67'\n",
      "  '46.67' '46.67' '33.33' '80.0']\n",
      " ['Reims' '17' '3' '8' '4' '16' '21' '-5' '28' '1.07' '1.4' '6.67'\n",
      "  '33.33' '6.67' '6.67' '13.33' '40.0']\n",
      " ['Rennes' '31' '9' '4' '2' '31' '14' '17' '24' '2.07' '0.93' '13.33'\n",
      "  '33.33' '20.0' '53.33' '20.0' '66.67']\n",
      " ['Strasbourg' '11' '1' '8' '6' '17' '26' '-9' '19' '1.13' '1.73' '13.33'\n",
      "  '20.0' '13.33' '13.33' '26.67' '26.67']\n",
      " ['Toulouse' '16' '4' '4' '7' '20' '27' '-7' '31' '1.33' '1.8' '13.33'\n",
      "  '20.0' '40.0' '33.33' '20.0' '6.67']\n",
      " ['Troyes' '14' '3' '5' '7' '26' '31' '-5' '23' '1.73' '2.07' '26.67'\n",
      "  '26.67' '20.0' '33.33' '13.33' '53.33']]\n"
     ]
    }
   ],
   "source": [
    "join_tables = join_tables(data)\n",
    "print(join_tables)"
   ]
  },
  {
   "cell_type": "markdown",
   "metadata": {},
   "source": [
    "# Question 12\n",
    "## Fonction `sort_by_points`\n",
    "\n",
    "Trie les équipes par leur nombre de points, de la plus haute à la plus basse.\n",
    "\n",
    "### Paramètres :\n",
    "\n",
    "- `joined_table` : `np.ndarray`  \n",
    "  Tableau numpy combinant diverses statistiques des équipes.\n",
    "\n",
    "### Retour :\n",
    "\n",
    "- `np.ndarray`  \n",
    "  Le tableau numpy trié par points.\n"
   ]
  },
  {
   "cell_type": "code",
   "execution_count": 25,
   "metadata": {},
   "outputs": [],
   "source": [
    "def sort_by_points(joined_table: np.ndarray) -> np.ndarray:\n",
    "    \"\"\"trier les equipes par points\"\"\"\n",
    "    points = joined_table[:, 1].astype(float)\n",
    "    table_sorter = joined_table[points.argsort()[::-1]]\n",
    "    return table_sorter"
   ]
  },
  {
   "cell_type": "code",
   "execution_count": 26,
   "metadata": {},
   "outputs": [
    {
     "name": "stdout",
     "output_type": "stream",
     "text": [
      "[['PSG' '41' '13' '2' '0' '43' '9' '34' '36' '2.87' '0.6' '33.33' '46.67'\n",
      "  '46.67' '46.67' '33.33' '80.0']\n",
      " ['Lens' '36' '11' '3' '1' '26' '10' '16' '19' '1.73' '0.67' '6.67'\n",
      "  '26.67' '13.33' '33.33' '40.0' '53.33']\n",
      " ['Rennes' '31' '9' '4' '2' '31' '14' '17' '24' '2.07' '0.93' '13.33'\n",
      "  '33.33' '20.0' '53.33' '20.0' '66.67']\n",
      " ['Marseille' '30' '9' '3' '3' '26' '13' '13' '20' '1.73' '0.87' '33.33'\n",
      "  '6.67' '53.33' '26.67' '20.0' '33.33']\n",
      " ['Lorient' '28' '8' '4' '3' '26' '21' '5' '19' '1.73' '1.4' '33.33'\n",
      "  '26.67' '33.33' '46.67' '13.33' '20.0']\n",
      " ['Monaco' '27' '8' '3' '4' '29' '21' '8' '26' '1.93' '1.4' '20.0'\n",
      "  '13.33' '46.67' '46.67' '46.67' '20.0']\n",
      " ['Lille' '26' '8' '2' '5' '27' '23' '4' '24' '1.8' '1.53' '26.67'\n",
      "  '26.67' '46.67' '20.0' '26.67' '33.33']\n",
      " ['Lyon' '21' '6' '3' '6' '23' '18' '5' '23' '1.53' '1.2' '20.0' '26.67'\n",
      "  '20.0' '20.0' '33.33' '33.33']\n",
      " ['Nice' '20' '5' '5' '5' '15' '17' '-2' '27' '1.0' '1.13' '6.67' '20.0'\n",
      "  '20.0' '20.0' '20.0' '13.33']\n",
      " ['Clermont' '19' '5' '4' '6' '19' '23' '-4' '25' '1.27' '1.53' '20.0'\n",
      "  '0.0' '6.67' '40.0' '26.67' '33.33']\n",
      " ['Reims' '17' '3' '8' '4' '16' '21' '-5' '28' '1.07' '1.4' '6.67'\n",
      "  '33.33' '6.67' '6.67' '13.33' '40.0']\n",
      " ['Toulouse' '16' '4' '4' '7' '20' '27' '-7' '31' '1.33' '1.8' '13.33'\n",
      "  '20.0' '40.0' '33.33' '20.0' '6.67']\n",
      " ['Troyes' '14' '3' '5' '7' '26' '31' '-5' '23' '1.73' '2.07' '26.67'\n",
      "  '26.67' '20.0' '33.33' '13.33' '53.33']\n",
      " ['Montpellier' '14' '4' '2' '9' '24' '29' '-5' '31' '1.6' '1.93' '53.33'\n",
      "  '26.67' '13.33' '6.67' '20.0' '40.0']\n",
      " ['Nantes' '13' '2' '7' '6' '17' '24' '-7' '19' '1.13' '1.6' '6.67'\n",
      "  '6.67' '13.33' '20.0' '26.67' '40.0']\n",
      " ['Brest' '13' '3' '4' '8' '16' '28' '-12' '26' '1.07' '1.87' '20.0'\n",
      "  '13.33' '6.67' '20.0' '33.33' '13.33']\n",
      " ['Auxerre' '13' '3' '4' '8' '14' '31' '-17' '23' '0.93' '2.07' '20.0'\n",
      "  '6.67' '13.33' '6.67' '20.0' '26.67']\n",
      " ['Ajaccio' '12' '3' '3' '9' '14' '24' '-10' '23' '0.93' '1.6' '0.0'\n",
      "  '6.67' '33.33' '20.0' '20.0' '13.33']\n",
      " ['Strasbourg' '11' '1' '8' '6' '17' '26' '-9' '19' '1.13' '1.73' '13.33'\n",
      "  '20.0' '13.33' '13.33' '26.67' '26.67']\n",
      " ['Angers' '8' '2' '2' '11' '15' '34' '-19' '17' '1.0' '2.27' '13.33'\n",
      "  '6.67' '13.33' '13.33' '26.67' '26.67']]\n",
      "(20, 17)\n"
     ]
    }
   ],
   "source": [
    "sorted_table = sort_by_points(join_tables)\n",
    "print(sorted_table)\n",
    "print(sorted_table.shape)"
   ]
  },
  {
   "cell_type": "markdown",
   "metadata": {},
   "source": [
    "# Question 13\n",
    "## Fonction `correlation_matrice`\n",
    "\n",
    "Calcule la matrice de corrélation entre les différentes statistiques des équipes, y compris les buts marqués et encaissés.\n",
    "\n",
    "### Paramètres :\n",
    "\n",
    "- `donnees` : `np.ndarray`  \n",
    "  Tableau numpy contenant les statistiques des équipes.\n",
    "\n",
    "### Retour :\n",
    "\n",
    "- `np.ndarray`  \n",
    "  La matrice de corrélation représentant les relations statistiques entre les différentes colonnes de données.\n"
   ]
  },
  {
   "cell_type": "code",
   "execution_count": 27,
   "metadata": {},
   "outputs": [],
   "source": [
    "def correlation_matrice(donnees: np.ndarray) -> np.ndarray:\n",
    "    \"\"\"Calcule la matrice de corrélation entre les colonnes de buts marqués et buts encaissés.\"\"\"\n",
    "    correlation_matrix = np.corrcoef(sort_by_points(data)[:, 1:].astype(float))\n",
    "    return correlation_matrix"
   ]
  },
  {
   "cell_type": "code",
   "execution_count": 28,
   "metadata": {},
   "outputs": [
    {
     "name": "stdout",
     "output_type": "stream",
     "text": [
      "[[1.         0.99989645 0.99983912 0.99993244 0.99978084 0.99993432\n",
      "  0.99990989 0.99996803 0.99998456 0.99993463 0.99973988 0.99983409\n",
      "  0.99988416 0.99974223 0.99987898 0.99947944 0.99948517 0.99977352\n",
      "  0.99980679 0.99980803]\n",
      " [0.99989645 1.         0.99999233 0.99999525 0.99997311 0.99998941\n",
      "  0.99999634 0.99997518 0.99994609 0.99998744 0.99994951 0.99998186\n",
      "  0.99998517 0.99995661 0.99998581 0.99983091 0.9998361  0.99997097\n",
      "  0.99997406 0.99998032]\n",
      " [0.99983912 0.99999233 1.         0.9999787  0.99999196 0.99997348\n",
      "  0.9999875  0.99994496 0.99990506 0.99996994 0.99997499 0.99999059\n",
      "  0.99998069 0.99998039 0.9999836  0.99988885 0.99989484 0.9999892\n",
      "  0.99998554 0.99999228]\n",
      " [0.99993244 0.99999525 0.9999787  1.         0.99995418 0.99999649\n",
      "  0.99999623 0.99998973 0.99996954 0.99999477 0.99992906 0.99997182\n",
      "  0.99998378 0.9999336  0.99998499 0.99978223 0.99978679 0.99995066\n",
      "  0.9999599  0.99996462]\n",
      " [0.99978084 0.99997311 0.99999196 0.99995418 1.         0.99995064\n",
      "  0.9999686  0.99990824 0.99986028 0.99994681 0.99999017 0.99999019\n",
      "  0.99996856 0.99999267 0.9999752  0.99992917 0.99993389 0.9999943\n",
      "  0.99998601 0.99999183]\n",
      " [0.99993432 0.99998941 0.99997348 0.99999649 0.99995064 1.\n",
      "  0.99999635 0.99999038 0.99997287 0.99999699 0.99992992 0.99997356\n",
      "  0.99998799 0.99993243 0.99998926 0.9997732  0.99978013 0.99994786\n",
      "  0.9999625  0.99996345]\n",
      " [0.99990989 0.99999634 0.9999875  0.99999623 0.9999686  0.99999635\n",
      "  1.         0.99998317 0.99995913 0.99999515 0.99995071 0.99998565\n",
      "  0.99999367 0.99995496 0.99999327 0.99981658 0.99982379 0.99996788\n",
      "  0.99997777 0.99997971]\n",
      " [0.99996803 0.99997518 0.99994496 0.99998973 0.99990824 0.99999038\n",
      "  0.99998317 1.         0.99999372 0.99999223 0.99988119 0.99994267\n",
      "  0.99997145 0.9998879  0.99996591 0.99969392 0.99970226 0.9999085\n",
      "  0.9999301  0.9999306 ]\n",
      " [0.99998456 0.99994609 0.99990506 0.99996954 0.99986028 0.99997287\n",
      "  0.99995913 0.99999372 1.         0.99997761 0.99983182 0.99990855\n",
      "  0.99994745 0.99983869 0.99993805 0.99961511 0.99962297 0.99986157\n",
      "  0.99989018 0.99988939]\n",
      " [0.99993463 0.99998744 0.99996994 0.99999477 0.99994681 0.99999699\n",
      "  0.99999515 0.99999223 0.99997761 1.         0.99992985 0.99997463\n",
      "  0.9999919  0.99993437 0.99998865 0.99977257 0.99977947 0.99994845\n",
      "  0.99996455 0.99996413]\n",
      " [0.99973988 0.99994951 0.99997499 0.99992906 0.99999017 0.99992992\n",
      "  0.99995071 0.99988119 0.99983182 0.99992985 1.         0.99998597\n",
      "  0.99996247 0.99999565 0.99996892 0.99994662 0.99994796 0.99999098\n",
      "  0.99998486 0.99998649]\n",
      " [0.99983409 0.99998186 0.99999059 0.99997182 0.99999019 0.99997356\n",
      "  0.99998565 0.99994267 0.99990855 0.99997463 0.99998597 1.\n",
      "  0.99999079 0.99998822 0.99999178 0.99989439 0.99989942 0.99999101\n",
      "  0.99999305 0.99999485]\n",
      " [0.99988416 0.99998517 0.99998069 0.99998378 0.99996856 0.99998799\n",
      "  0.99999367 0.99997145 0.99994745 0.9999919  0.99996247 0.99999079\n",
      "  1.         0.99996697 0.99999632 0.99983543 0.99984331 0.99997517\n",
      "  0.9999885  0.99998571]\n",
      " [0.99974223 0.99995661 0.99998039 0.9999336  0.99999267 0.99993243\n",
      "  0.99995496 0.9998879  0.99983869 0.99993437 0.99999565 0.99998822\n",
      "  0.99996697 1.         0.99996868 0.99994799 0.99995303 0.99999707\n",
      "  0.99999089 0.99999312]\n",
      " [0.99987898 0.99998581 0.9999836  0.99998499 0.9999752  0.99998926\n",
      "  0.99999327 0.99996591 0.99993805 0.99998865 0.99996892 0.99999178\n",
      "  0.99999632 0.99996868 1.         0.99984545 0.99985061 0.9999778\n",
      "  0.99998784 0.99998665]\n",
      " [0.99947944 0.99983091 0.99988885 0.99978223 0.99992917 0.9997732\n",
      "  0.99981658 0.99969392 0.99961511 0.99977257 0.99994662 0.99989439\n",
      "  0.99983543 0.99994799 0.99984545 1.         0.9999953  0.99993354\n",
      "  0.99990037 0.99991151]\n",
      " [0.99948517 0.9998361  0.99989484 0.99978679 0.99993389 0.99978013\n",
      "  0.99982379 0.99970226 0.99962297 0.99977947 0.99994796 0.99989942\n",
      "  0.99984331 0.99995303 0.99985061 0.9999953  1.         0.99993856\n",
      "  0.9999108  0.99991711]\n",
      " [0.99977352 0.99997097 0.9999892  0.99995066 0.9999943  0.99994786\n",
      "  0.99996788 0.9999085  0.99986157 0.99994845 0.99999098 0.99999101\n",
      "  0.99997517 0.99999707 0.9999778  0.99993354 0.99993856 1.\n",
      "  0.99999435 0.99999809]\n",
      " [0.99980679 0.99997406 0.99998554 0.9999599  0.99998601 0.9999625\n",
      "  0.99997777 0.9999301  0.99989018 0.99996455 0.99998486 0.99999305\n",
      "  0.9999885  0.99999089 0.99998784 0.99990037 0.9999108  0.99999435\n",
      "  1.         0.99999696]\n",
      " [0.99980803 0.99998032 0.99999228 0.99996462 0.99999183 0.99996345\n",
      "  0.99997971 0.9999306  0.99988939 0.99996413 0.99998649 0.99999485\n",
      "  0.99998571 0.99999312 0.99998665 0.99991151 0.99991711 0.99999809\n",
      "  0.99999696 1.        ]]\n"
     ]
    }
   ],
   "source": [
    "correlation = correlation_matrice(sorted_table)\n",
    "print(correlation)"
   ]
  },
  {
   "cell_type": "markdown",
   "metadata": {},
   "source": [
    "# Interprétation de la Matrice de Corrélation\n",
    "\n",
    "La matrice de corrélation suivante présente les coefficients de corrélation entre différents champs statistiques d'une ligue de football :\n",
    "\n",
    "- `club`\n",
    "- `points_equip`\n",
    "- `victoires`\n",
    "- `nuls`\n",
    "- `defaites`\n",
    "- `butspour`\n",
    "- `butcontre`\n",
    "- `but_diff`\n",
    "- `horjeux`\n",
    "- `buts_par_match`\n",
    "- `buts_encaisses_par_match`\n",
    "- `pourcentage_but_crenaux`\n",
    "\n",
    "Chaque cellule de la matrice représente le coefficient de corrélation entre les champs correspondants aux indices de la ligne et de la colonne.\n",
    "\n",
    "## Observations Clés\n",
    "\n",
    "- Tous les coefficients sont extrêmement proches de **1.0**, ce qui indique des corrélations positives très fortes entre les variables.\n",
    "- Cela suggère que les équipes avec un plus grand nombre de **victoires**, **nuls**, et **points** ont tendance à avoir un nombre élevé de **buts marqués** (`butspour`) et une meilleure **différence de buts** (`but_diff`).\n",
    "- De manière similaire, il semble que les **horaires de jeu** (`horjeux`), **buts par match**, et **buts encaissés par match** sont fortement liés aux performances globales des clubs.\n",
    "- Ces résultats peuvent indiquer que les équipes les plus performantes sont celles qui non seulement marquent beaucoup de buts mais aussi maintiennent une défense solide, comme le montre la forte corrélation entre `butspour`, `butcontre`, et `points_equip`.\n",
    "\n",
    "\n",
    "## Exemple de Valeurs de la Matrice\n",
    "\n",
    "Voici un extrait de la matrice de corrélation pour les premières variables :\n",
    "\n",
    "|                       | points_equip | victoires | nuls   | defaites | ... |\n",
    "|-----------------------|--------------|-----------|--------|----------|-----|\n",
    "| **points_equip**      | 1.0000       | 0.9999    | 0.9998 | 0.9999   | ... |\n",
    "| **victoires**         | 0.9999       | 1.0000    | 0.9999 | 0.9999   | ... |\n",
    "| **nuls**              | 0.9998       | 0.9999    | 1.0000 | 0.9999   | ... |\n",
    "| **defaites**          | 0.9999       | 0.9999    | 0.9999 | 1.0000   | ... |\n",
    "| ...                   | ...          | ...       | ...    | ...      | ... |\n",
    "\n"
   ]
  },
  {
   "cell_type": "markdown",
   "metadata": {},
   "source": [
    "# Question 14\n",
    "## Fonction `write_csv_file`\n",
    "\n",
    "Enregistre les données statistiques des équipes dans un nouveau fichier CSV.\n",
    "\n",
    "### Paramètres :\n",
    "\n",
    "- `joined_table` : `np.ndarray`  \n",
    "  Tableau numpy contenant les statistiques combinées des équipes.\n",
    "\n",
    "### Fonctionnalité :\n",
    "\n",
    "- La fonction utilise `np.savetxt` pour écrire les données dans un fichier CSV nommé \"STATISTIQUES_EQUIPE_LIGUE1VersionNew.csv\".\n",
    "- Le fichier CSV est créé avec un en-tête spécifiant les colonnes : club, points, victoire, nul, defaite, butspour, butcontre, difference, hors_jeux, but_par_match, but_encraise, ainsi que les tranches horaires pour les buts.\n",
    "- Un message est imprimé à l'écran une fois le fichier CSV créé avec succès.\n"
   ]
  },
  {
   "cell_type": "code",
   "execution_count": 29,
   "metadata": {},
   "outputs": [],
   "source": [
    "def write_csv_file(joined_table):\n",
    "    \"\"\"Ecrire les donnees dans un nouveau csv file\"\"\"\n",
    "    # if \"STATISTIQUES_EQUIPE_LIGUE1VersionNew.csv\" in os.listdir():\n",
    "    #     os.remove(\"STATISTIQUES_EQUIPE_LIGUE1VersionNew.csv\")\n",
    "    np.savetxt(\"STATISTIQUES_EQUIPE_LIGUE1VersionNew.csv\", joined_table, delimiter=\",\", fmt=\"%s\",\n",
    "               header=\"club, points, victoire, nul, defaite, butspour, butcontre, difference, hors_jeux, but_par_match, but_encraise,0-15,16-30,31-45,46-60,61-75,76-90\")\n",
    "    print(\"Fichier csv cree avec succes\")"
   ]
  },
  {
   "cell_type": "code",
   "execution_count": 30,
   "metadata": {},
   "outputs": [
    {
     "name": "stdout",
     "output_type": "stream",
     "text": [
      "Fichier csv cree avec succes\n"
     ]
    }
   ],
   "source": [
    "write_csv_file(sorted_table)"
   ]
  }
 ],
 "metadata": {
  "kernelspec": {
   "display_name": "Python 3 (ipykernel)",
   "language": "python",
   "name": "python3"
  },
  "language_info": {
   "codemirror_mode": {
    "name": "ipython",
    "version": 3
   },
   "file_extension": ".py",
   "mimetype": "text/x-python",
   "name": "python",
   "nbconvert_exporter": "python",
   "pygments_lexer": "ipython3",
   "version": "3.11.0"
  }
 },
 "nbformat": 4,
 "nbformat_minor": 2
}
